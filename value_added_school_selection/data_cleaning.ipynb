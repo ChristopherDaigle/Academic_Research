{
 "cells": [
  {
   "cell_type": "code",
   "execution_count": 1,
   "metadata": {},
   "outputs": [],
   "source": [
    "import pandas as pd\n",
    "import numpy as np"
   ]
  },
  {
   "cell_type": "code",
   "execution_count": 2,
   "metadata": {},
   "outputs": [],
   "source": [
    "df_247_rec = pd.read_excel(\"data/recruit247.xlsx\")\n",
    "df_nfl_players = pd.read_excel(\"data/PLAYER_nfl.xlsx\")"
   ]
  },
  {
   "cell_type": "code",
   "execution_count": 3,
   "metadata": {
    "scrolled": true
   },
   "outputs": [
    {
     "data": {
      "text/plain": [
       "['playerRec',\n",
       " 'posRec',\n",
       " 'genPosRec',\n",
       " 'htRec',\n",
       " 'wgtRec',\n",
       " 'hsRec',\n",
       " 'homeCityRec',\n",
       " 'homeStateRec',\n",
       " 'yearRec',\n",
       " 'rankNatRec',\n",
       " 'rankPosRec',\n",
       " 'rankStateRec',\n",
       " 'rankAllRec',\n",
       " 'scoreRec',\n",
       " 'teamComRec',\n",
       " 'UNITID_comRec',\n",
       " 'teamStatusRec',\n",
       " 'statusDateRec',\n",
       " 'offersRec',\n",
       " 'visitsRec',\n",
       " 'coachVisRec',\n",
       " 'posCol',\n",
       " 'htCol',\n",
       " 'wgtCol',\n",
       " 'classYearCol',\n",
       " 'classCol',\n",
       " 'teamCol',\n",
       " 'UNITID_col',\n",
       " 'comDateCol',\n",
       " 'jucoDum',\n",
       " 'blankDum',\n",
       " 'prepDum',\n",
       " 'recNormal',\n",
       " 'rankNatPREP',\n",
       " 'rankPosPREP',\n",
       " 'rankStatePREP',\n",
       " 'jcRec',\n",
       " 'recScrImp',\n",
       " 'jcNoPriorNCAA',\n",
       " 'jcRecNorm',\n",
       " 'profJUCOURL',\n",
       " 'collegeURLJC',\n",
       " 'collegeURLNCAA',\n",
       " 'profHSURL',\n",
       " 'intURL',\n",
       " 'profURL',\n",
       " 'recYrHS',\n",
       " 'htHS',\n",
       " 'wgtHS',\n",
       " 'rankNatHS',\n",
       " 'rankPosHS',\n",
       " 'rankStateHS',\n",
       " 'rankAllHS',\n",
       " 'recScrCompHS',\n",
       " 'intURLJC']"
      ]
     },
     "execution_count": 3,
     "metadata": {},
     "output_type": "execute_result"
    }
   ],
   "source": [
    "list(df_247_rec.columns)"
   ]
  },
  {
   "cell_type": "code",
   "execution_count": 4,
   "metadata": {
    "scrolled": true
   },
   "outputs": [
    {
     "data": {
      "text/plain": [
       "['player',\n",
       " 'fname',\n",
       " 'lname',\n",
       " 'pname',\n",
       " 'pos1',\n",
       " 'pos2',\n",
       " 'height',\n",
       " 'weight',\n",
       " 'dob',\n",
       " 'forty',\n",
       " 'bench',\n",
       " 'vertical',\n",
       " 'broad',\n",
       " 'shuttle',\n",
       " 'cone',\n",
       " 'arm',\n",
       " 'hand',\n",
       " 'dpos',\n",
       " 'col',\n",
       " 'dv',\n",
       " 'start',\n",
       " 'cteam',\n",
       " 'posd',\n",
       " 'jnum',\n",
       " 'dcp',\n",
       " 'UNITID']"
      ]
     },
     "execution_count": 4,
     "metadata": {},
     "output_type": "execute_result"
    }
   ],
   "source": [
    "list(df_nfl_players.columns)"
   ]
  },
  {
   "cell_type": "code",
   "execution_count": 5,
   "metadata": {},
   "outputs": [
    {
     "data": {
      "text/html": [
       "<div>\n",
       "<style scoped>\n",
       "    .dataframe tbody tr th:only-of-type {\n",
       "        vertical-align: middle;\n",
       "    }\n",
       "\n",
       "    .dataframe tbody tr th {\n",
       "        vertical-align: top;\n",
       "    }\n",
       "\n",
       "    .dataframe thead th {\n",
       "        text-align: right;\n",
       "    }\n",
       "</style>\n",
       "<table border=\"1\" class=\"dataframe\">\n",
       "  <thead>\n",
       "    <tr style=\"text-align: right;\">\n",
       "      <th></th>\n",
       "      <th>player</th>\n",
       "      <th>fname</th>\n",
       "      <th>lname</th>\n",
       "      <th>pname</th>\n",
       "      <th>pos1</th>\n",
       "      <th>pos2</th>\n",
       "      <th>height</th>\n",
       "      <th>weight</th>\n",
       "      <th>dob</th>\n",
       "      <th>forty</th>\n",
       "      <th>...</th>\n",
       "      <th>hand</th>\n",
       "      <th>dpos</th>\n",
       "      <th>col</th>\n",
       "      <th>dv</th>\n",
       "      <th>start</th>\n",
       "      <th>cteam</th>\n",
       "      <th>posd</th>\n",
       "      <th>jnum</th>\n",
       "      <th>dcp</th>\n",
       "      <th>UNITID</th>\n",
       "    </tr>\n",
       "  </thead>\n",
       "  <tbody>\n",
       "    <tr>\n",
       "      <th>0</th>\n",
       "      <td>AA-0025</td>\n",
       "      <td>Ameer</td>\n",
       "      <td>Abdullah</td>\n",
       "      <td>A.Abdullah</td>\n",
       "      <td>RB</td>\n",
       "      <td>NaN</td>\n",
       "      <td>69</td>\n",
       "      <td>205</td>\n",
       "      <td>1993-06-13</td>\n",
       "      <td>4.5</td>\n",
       "      <td>...</td>\n",
       "      <td>8.625</td>\n",
       "      <td>54</td>\n",
       "      <td>Nebraska</td>\n",
       "      <td>Big Ten</td>\n",
       "      <td>2015</td>\n",
       "      <td>MIN</td>\n",
       "      <td>RB</td>\n",
       "      <td>31</td>\n",
       "      <td>3</td>\n",
       "      <td>181464.0</td>\n",
       "    </tr>\n",
       "  </tbody>\n",
       "</table>\n",
       "<p>1 rows × 26 columns</p>\n",
       "</div>"
      ],
      "text/plain": [
       "    player  fname     lname       pname pos1 pos2  height  weight        dob  \\\n",
       "0  AA-0025  Ameer  Abdullah  A.Abdullah   RB  NaN      69     205 1993-06-13   \n",
       "\n",
       "   forty  ...   hand  dpos       col       dv  start  cteam  posd  jnum dcp  \\\n",
       "0    4.5  ...  8.625    54  Nebraska  Big Ten   2015    MIN    RB    31   3   \n",
       "\n",
       "     UNITID  \n",
       "0  181464.0  \n",
       "\n",
       "[1 rows x 26 columns]"
      ]
     },
     "execution_count": 5,
     "metadata": {},
     "output_type": "execute_result"
    }
   ],
   "source": [
    "df_nfl_players.head(1)"
   ]
  },
  {
   "cell_type": "code",
   "execution_count": 6,
   "metadata": {},
   "outputs": [
    {
     "data": {
      "text/plain": [
       "[2000.0,\n",
       " 2001.0,\n",
       " 2002.0,\n",
       " 2003.0,\n",
       " 2004.0,\n",
       " 2005.0,\n",
       " 2006.0,\n",
       " 2007.0,\n",
       " 2008.0,\n",
       " 2009.0,\n",
       " 2010.0,\n",
       " 2011.0,\n",
       " 2012.0,\n",
       " 2013.0,\n",
       " 2014.0,\n",
       " 2015.0,\n",
       " 2016.0,\n",
       " 2017.0,\n",
       " 2018.0,\n",
       " nan,\n",
       " 2019.0]"
      ]
     },
     "execution_count": 6,
     "metadata": {},
     "output_type": "execute_result"
    }
   ],
   "source": [
    "sorted(list(df_247_rec['yearRec'].unique()))"
   ]
  },
  {
   "cell_type": "code",
   "execution_count": 7,
   "metadata": {},
   "outputs": [],
   "source": [
    "# Keep obs after 2000 as df_247_recruit data starts at 2000\n",
    "df_nfl_players = df_nfl_players[df_nfl_players['start'] >=2000].copy()"
   ]
  },
  {
   "cell_type": "code",
   "execution_count": 8,
   "metadata": {},
   "outputs": [
    {
     "data": {
      "text/html": [
       "<div>\n",
       "<style scoped>\n",
       "    .dataframe tbody tr th:only-of-type {\n",
       "        vertical-align: middle;\n",
       "    }\n",
       "\n",
       "    .dataframe tbody tr th {\n",
       "        vertical-align: top;\n",
       "    }\n",
       "\n",
       "    .dataframe thead th {\n",
       "        text-align: right;\n",
       "    }\n",
       "</style>\n",
       "<table border=\"1\" class=\"dataframe\">\n",
       "  <thead>\n",
       "    <tr style=\"text-align: right;\">\n",
       "      <th></th>\n",
       "      <th>playerRec</th>\n",
       "      <th>posRec</th>\n",
       "      <th>genPosRec</th>\n",
       "      <th>htRec</th>\n",
       "      <th>wgtRec</th>\n",
       "      <th>hsRec</th>\n",
       "      <th>homeCityRec</th>\n",
       "      <th>homeStateRec</th>\n",
       "      <th>yearRec</th>\n",
       "      <th>rankNatRec</th>\n",
       "      <th>...</th>\n",
       "      <th>profURL</th>\n",
       "      <th>recYrHS</th>\n",
       "      <th>htHS</th>\n",
       "      <th>wgtHS</th>\n",
       "      <th>rankNatHS</th>\n",
       "      <th>rankPosHS</th>\n",
       "      <th>rankStateHS</th>\n",
       "      <th>rankAllHS</th>\n",
       "      <th>recScrCompHS</th>\n",
       "      <th>intURLJC</th>\n",
       "    </tr>\n",
       "  </thead>\n",
       "  <tbody>\n",
       "    <tr>\n",
       "      <th>0</th>\n",
       "      <td>Andrew McKain</td>\n",
       "      <td>ILB</td>\n",
       "      <td>LB</td>\n",
       "      <td>73.0</td>\n",
       "      <td>220.0</td>\n",
       "      <td>Tucker</td>\n",
       "      <td>Tucker</td>\n",
       "      <td>GA</td>\n",
       "      <td>2004.0</td>\n",
       "      <td>1243.0</td>\n",
       "      <td>...</td>\n",
       "      <td>https://247sports.com/Player/Andrew-McKain-46849/</td>\n",
       "      <td>2004.0</td>\n",
       "      <td>73.0</td>\n",
       "      <td>220.0</td>\n",
       "      <td>1243.0</td>\n",
       "      <td>64.0</td>\n",
       "      <td>66.0</td>\n",
       "      <td>NaN</td>\n",
       "      <td>0.7667</td>\n",
       "      <td>NaN</td>\n",
       "    </tr>\n",
       "  </tbody>\n",
       "</table>\n",
       "<p>1 rows × 55 columns</p>\n",
       "</div>"
      ],
      "text/plain": [
       "       playerRec posRec genPosRec  htRec  wgtRec   hsRec homeCityRec  \\\n",
       "0  Andrew McKain    ILB        LB   73.0   220.0  Tucker      Tucker   \n",
       "\n",
       "  homeStateRec  yearRec  rankNatRec  ...  \\\n",
       "0           GA   2004.0      1243.0  ...   \n",
       "\n",
       "                                             profURL  recYrHS  htHS  wgtHS  \\\n",
       "0  https://247sports.com/Player/Andrew-McKain-46849/   2004.0  73.0  220.0   \n",
       "\n",
       "  rankNatHS  rankPosHS rankStateHS rankAllHS  recScrCompHS  intURLJC  \n",
       "0    1243.0       64.0        66.0       NaN        0.7667       NaN  \n",
       "\n",
       "[1 rows x 55 columns]"
      ]
     },
     "execution_count": 8,
     "metadata": {},
     "output_type": "execute_result"
    }
   ],
   "source": [
    "df_247_rec.head(1)"
   ]
  },
  {
   "cell_type": "code",
   "execution_count": 9,
   "metadata": {},
   "outputs": [
    {
     "name": "stdout",
     "output_type": "stream",
     "text": [
      "number of nulls: 0\n"
     ]
    }
   ],
   "source": [
    "print(\"number of nulls: {}\".format(df_247_rec[\"playerRec\"].isnull().sum()))"
   ]
  },
  {
   "cell_type": "code",
   "execution_count": 10,
   "metadata": {},
   "outputs": [],
   "source": [
    "df_247_rec[\"first_name\"] = df_247_rec[\"playerRec\"].apply(lambda x: x.rsplit(' ', 1)[0])\n",
    "df_247_rec[\"last_name\"] = df_247_rec[\"playerRec\"].apply(lambda x: x.rsplit(' ', 1)[-1])"
   ]
  },
  {
   "cell_type": "code",
   "execution_count": 11,
   "metadata": {},
   "outputs": [
    {
     "data": {
      "text/html": [
       "<div>\n",
       "<style scoped>\n",
       "    .dataframe tbody tr th:only-of-type {\n",
       "        vertical-align: middle;\n",
       "    }\n",
       "\n",
       "    .dataframe tbody tr th {\n",
       "        vertical-align: top;\n",
       "    }\n",
       "\n",
       "    .dataframe thead th {\n",
       "        text-align: right;\n",
       "    }\n",
       "</style>\n",
       "<table border=\"1\" class=\"dataframe\">\n",
       "  <thead>\n",
       "    <tr style=\"text-align: right;\">\n",
       "      <th></th>\n",
       "      <th>playerRec</th>\n",
       "      <th>first_name</th>\n",
       "      <th>last_name</th>\n",
       "    </tr>\n",
       "  </thead>\n",
       "  <tbody>\n",
       "    <tr>\n",
       "      <th>0</th>\n",
       "      <td>Andrew McKain</td>\n",
       "      <td>Andrew</td>\n",
       "      <td>McKain</td>\n",
       "    </tr>\n",
       "    <tr>\n",
       "      <th>1</th>\n",
       "      <td>A.J. Morosco</td>\n",
       "      <td>A.J.</td>\n",
       "      <td>Morosco</td>\n",
       "    </tr>\n",
       "    <tr>\n",
       "      <th>2</th>\n",
       "      <td>Cleary Clark</td>\n",
       "      <td>Cleary</td>\n",
       "      <td>Clark</td>\n",
       "    </tr>\n",
       "    <tr>\n",
       "      <th>3</th>\n",
       "      <td>Wade Weyer</td>\n",
       "      <td>Wade</td>\n",
       "      <td>Weyer</td>\n",
       "    </tr>\n",
       "    <tr>\n",
       "      <th>4</th>\n",
       "      <td>Nick Lind</td>\n",
       "      <td>Nick</td>\n",
       "      <td>Lind</td>\n",
       "    </tr>\n",
       "    <tr>\n",
       "      <th>...</th>\n",
       "      <td>...</td>\n",
       "      <td>...</td>\n",
       "      <td>...</td>\n",
       "    </tr>\n",
       "    <tr>\n",
       "      <th>30847</th>\n",
       "      <td>Kenan Johnson</td>\n",
       "      <td>Kenan</td>\n",
       "      <td>Johnson</td>\n",
       "    </tr>\n",
       "    <tr>\n",
       "      <th>30848</th>\n",
       "      <td>Donald Monroe</td>\n",
       "      <td>Donald</td>\n",
       "      <td>Monroe</td>\n",
       "    </tr>\n",
       "    <tr>\n",
       "      <th>30849</th>\n",
       "      <td>Jordan Berry</td>\n",
       "      <td>Jordan</td>\n",
       "      <td>Berry</td>\n",
       "    </tr>\n",
       "    <tr>\n",
       "      <th>30850</th>\n",
       "      <td>Jason Mack</td>\n",
       "      <td>Jason</td>\n",
       "      <td>Mack</td>\n",
       "    </tr>\n",
       "    <tr>\n",
       "      <th>30851</th>\n",
       "      <td>Da'Quon Patterson</td>\n",
       "      <td>Da'Quon</td>\n",
       "      <td>Patterson</td>\n",
       "    </tr>\n",
       "  </tbody>\n",
       "</table>\n",
       "<p>30852 rows × 3 columns</p>\n",
       "</div>"
      ],
      "text/plain": [
       "               playerRec first_name  last_name\n",
       "0          Andrew McKain     Andrew     McKain\n",
       "1           A.J. Morosco       A.J.    Morosco\n",
       "2           Cleary Clark     Cleary      Clark\n",
       "3             Wade Weyer       Wade      Weyer\n",
       "4              Nick Lind       Nick       Lind\n",
       "...                  ...        ...        ...\n",
       "30847      Kenan Johnson      Kenan    Johnson\n",
       "30848      Donald Monroe     Donald     Monroe\n",
       "30849       Jordan Berry     Jordan      Berry\n",
       "30850         Jason Mack      Jason       Mack\n",
       "30851  Da'Quon Patterson    Da'Quon  Patterson\n",
       "\n",
       "[30852 rows x 3 columns]"
      ]
     },
     "execution_count": 11,
     "metadata": {},
     "output_type": "execute_result"
    }
   ],
   "source": [
    "df_247_rec[[\"playerRec\", \"first_name\", \"last_name\"]]"
   ]
  },
  {
   "cell_type": "code",
   "execution_count": 12,
   "metadata": {},
   "outputs": [
    {
     "data": {
      "text/plain": [
       "(31330, 83)"
      ]
     },
     "execution_count": 12,
     "metadata": {},
     "output_type": "execute_result"
    }
   ],
   "source": [
    "df_247_pnfl = pd.merge(df_247_rec,\n",
    "                       df_nfl_players,\n",
    "                       how=\"left\",\n",
    "                       left_on=[\"last_name\", \"first_name\"],\n",
    "                       right_on=[\"lname\", \"fname\"],\n",
    "                       suffixes=('_247', '_playernfl'))\n",
    "df_247_pnfl.shape"
   ]
  },
  {
   "cell_type": "code",
   "execution_count": 14,
   "metadata": {
    "scrolled": true
   },
   "outputs": [
    {
     "data": {
      "text/plain": [
       "['playerRec',\n",
       " 'posRec',\n",
       " 'genPosRec',\n",
       " 'htRec',\n",
       " 'wgtRec',\n",
       " 'hsRec',\n",
       " 'homeCityRec',\n",
       " 'homeStateRec',\n",
       " 'yearRec',\n",
       " 'rankNatRec',\n",
       " 'rankPosRec',\n",
       " 'rankStateRec',\n",
       " 'rankAllRec',\n",
       " 'scoreRec',\n",
       " 'teamComRec',\n",
       " 'UNITID_comRec',\n",
       " 'teamStatusRec',\n",
       " 'statusDateRec',\n",
       " 'offersRec',\n",
       " 'visitsRec',\n",
       " 'coachVisRec',\n",
       " 'posCol',\n",
       " 'htCol',\n",
       " 'wgtCol',\n",
       " 'classYearCol',\n",
       " 'classCol',\n",
       " 'teamCol',\n",
       " 'UNITID_col',\n",
       " 'comDateCol',\n",
       " 'jucoDum',\n",
       " 'blankDum',\n",
       " 'prepDum',\n",
       " 'recNormal',\n",
       " 'rankNatPREP',\n",
       " 'rankPosPREP',\n",
       " 'rankStatePREP',\n",
       " 'jcRec',\n",
       " 'recScrImp',\n",
       " 'jcNoPriorNCAA',\n",
       " 'jcRecNorm',\n",
       " 'profJUCOURL',\n",
       " 'collegeURLJC',\n",
       " 'collegeURLNCAA',\n",
       " 'profHSURL',\n",
       " 'intURL',\n",
       " 'profURL',\n",
       " 'recYrHS',\n",
       " 'htHS',\n",
       " 'wgtHS',\n",
       " 'rankNatHS',\n",
       " 'rankPosHS',\n",
       " 'rankStateHS',\n",
       " 'rankAllHS',\n",
       " 'recScrCompHS',\n",
       " 'intURLJC',\n",
       " 'first_name',\n",
       " 'last_name',\n",
       " 'player',\n",
       " 'fname',\n",
       " 'lname',\n",
       " 'pname',\n",
       " 'pos1',\n",
       " 'pos2',\n",
       " 'height',\n",
       " 'weight',\n",
       " 'dob',\n",
       " 'forty',\n",
       " 'bench',\n",
       " 'vertical',\n",
       " 'broad',\n",
       " 'shuttle',\n",
       " 'cone',\n",
       " 'arm',\n",
       " 'hand',\n",
       " 'dpos',\n",
       " 'col',\n",
       " 'dv',\n",
       " 'start',\n",
       " 'cteam',\n",
       " 'posd',\n",
       " 'jnum',\n",
       " 'dcp',\n",
       " 'UNITID']"
      ]
     },
     "execution_count": 14,
     "metadata": {},
     "output_type": "execute_result"
    }
   ],
   "source": [
    "list(df_247_pnfl.columns)"
   ]
  },
  {
   "cell_type": "code",
   "execution_count": 52,
   "metadata": {},
   "outputs": [],
   "source": [
    "# Identify unique last names where UNITID_comRec == UNITID\n",
    "u_com_rec = set(\n",
    "    df_247_pnfl[df_247_pnfl['UNITID_comRec'] == df_247_pnfl['UNITID']][\"last_name\"])"
   ]
  },
  {
   "cell_type": "code",
   "execution_count": 53,
   "metadata": {},
   "outputs": [],
   "source": [
    "# Identify unique last names where UNITID_col == UNITID\n",
    "u_col = set(\n",
    "    df_247_pnfl[df_247_pnfl['UNITID_col'] == df_247_pnfl['UNITID']][\"last_name\"])"
   ]
  },
  {
   "cell_type": "code",
   "execution_count": 54,
   "metadata": {},
   "outputs": [],
   "source": [
    "# Identify which last names are in both\n",
    "# TODO: Investigate indexes, potential for some last_names to be == with others !=\n",
    "unitid_intersect = set(np.intersect1d(list(u_com_rec), list(u_col), assume_unique=True))"
   ]
  },
  {
   "cell_type": "code",
   "execution_count": 62,
   "metadata": {},
   "outputs": [
    {
     "data": {
      "text/plain": [
       "{'Beavers',\n",
       " 'Celiscar',\n",
       " 'Christion',\n",
       " 'Dahl',\n",
       " 'Garoppolo',\n",
       " 'Gillaspia',\n",
       " 'Goodwin',\n",
       " 'Hackett',\n",
       " 'Hickman',\n",
       " 'Hoppes',\n",
       " 'Horsted',\n",
       " 'Iupati',\n",
       " 'Kaddu',\n",
       " 'Kanoff',\n",
       " 'Langi',\n",
       " 'Lovett',\n",
       " 'Lundblade',\n",
       " 'Madaris',\n",
       " 'Manton',\n",
       " 'Parms',\n",
       " 'Reilly',\n",
       " 'Searight',\n",
       " 'Staples',\n",
       " 'Stave',\n",
       " 'Torgersen',\n",
       " 'Ume-Ezeoke',\n",
       " 'Vea'}"
      ]
     },
     "execution_count": 62,
     "metadata": {},
     "output_type": "execute_result"
    }
   ],
   "source": [
    "# Last names to investigate\n",
    "set(u_com_rec|u_col)  - unitid_intersect"
   ]
  },
  {
   "cell_type": "code",
   "execution_count": 64,
   "metadata": {},
   "outputs": [],
   "source": [
    "df_247_pnfl.to_csv(\"data/merged.csv\")"
   ]
  },
  {
   "cell_type": "code",
   "execution_count": null,
   "metadata": {},
   "outputs": [],
   "source": []
  }
 ],
 "metadata": {
  "kernelspec": {
   "display_name": "Python 3",
   "language": "python",
   "name": "python3"
  },
  "language_info": {
   "codemirror_mode": {
    "name": "ipython",
    "version": 3
   },
   "file_extension": ".py",
   "mimetype": "text/x-python",
   "name": "python",
   "nbconvert_exporter": "python",
   "pygments_lexer": "ipython3",
   "version": "3.7.6"
  }
 },
 "nbformat": 4,
 "nbformat_minor": 4
}
