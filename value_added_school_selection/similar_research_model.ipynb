{
 "cells": [
  {
   "cell_type": "markdown",
   "metadata": {},
   "source": [
    "# WORKING TITLE: Value Added to School Selection\n",
    "\n",
    "## Basic Model:\n",
    "\n",
    "$$ Y_{ij} = k + v_{j} + \\alpha_{i} + \\epsilon_{ij}$$\n",
    "\n",
    "* $Y_{ij}$ denotes the potential outcome of student $i \\in I$ is she were to entroll at counterfactual collefe $j \\in J$ We can compoe $Y_{ij}$ as the sum of a constant, a school fixed effect, a student fixed effect, and a residual\n",
    "* $k = E\\left[Y_{ij}\\right]$ Constant (Normalization)\n",
    "* $v_{j} = E_{I}\\left[Y_{ij}\\right]-k$ School Fixed Effects (Value-Added)\n",
    "* $\\alpha_{i} = E_{J}\\left[Y_{ij}\\right]-k$ Student Fixed Effect (Ability, Ambition, Advantage)\n",
    "* $\\epsilon\\left(Y_{ij}-k-v_{j}-\\alpha_{i}\\right)$ Residual (Idiosyncratic Match)"
   ]
  },
  {
   "cell_type": "code",
   "execution_count": null,
   "metadata": {},
   "outputs": [],
   "source": []
  }
 ],
 "metadata": {
  "kernelspec": {
   "display_name": "Python 3",
   "language": "python",
   "name": "python3"
  },
  "language_info": {
   "codemirror_mode": {
    "name": "ipython",
    "version": 3
   },
   "file_extension": ".py",
   "mimetype": "text/x-python",
   "name": "python",
   "nbconvert_exporter": "python",
   "pygments_lexer": "ipython3",
   "version": "3.7.6"
  }
 },
 "nbformat": 4,
 "nbformat_minor": 4
}
